from pyspark.sql.types import StructField,ShortType,IntegerType, StringType, DoubleType, StructType
circuits_schema = StructType(fields=[
  StructField("circuitId", IntegerType(), True),
  StructField("circuitRef", StringType(), True),
  StructField("name", StringType(), True),
  StructField("location", StringType(), True),
  StructField("country", StringType(), True),
  StructField("lat", DoubleType(), True),
  StructField("lng", DoubleType(), True),
  StructField("alt", IntegerType(), True),
  StructField("url", StringType(), True)    
])
circuits_df = spark.read\
  .option("header",True)\
  .schema(circuits_schema)\
  .csv('/mnt/databrickudemy/raw/circuits.csv')
circuits_df.show(2)
